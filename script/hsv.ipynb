{
 "cells": [
  {
   "cell_type": "code",
   "execution_count": 183,
   "metadata": {},
   "outputs": [],
   "source": [
    "import cv2\n",
    "import matplotlib.pyplot as plt\n",
    "\n",
    "r = cv2.imread(\"test_r.png\")\n",
    "b = cv2.imread(\"test_b.png\")\n",
    "img = r\n",
    "imghsv = cv2.cvtColor(img, cv2.COLOR_BGR2HSV)"
   ]
  },
  {
   "cell_type": "code",
   "execution_count": 192,
   "metadata": {},
   "outputs": [
    {
     "name": "stdout",
     "output_type": "stream",
     "text": [
      "((770.7535400390625, 641.748779296875), (13.498894691467285, 43.68840408325195), 178.4578857421875)\n",
      "((880.0927124023438, 641.3164672851562), (12.888975143432617, 44.700931549072266), 177.60427856445312)\n",
      "((622.9901123046875, 630.447021484375), (10.905945777893066, 39.539695739746094), 12.69235610961914)\n",
      "((995.2714233398438, 626.4215698242188), (5.873315334320068, 36.2480354309082), 165.93548583984375)\n"
     ]
    },
    {
     "data": {
      "text/plain": [
       "<matplotlib.image.AxesImage at 0x7efc15ec83a0>"
      ]
     },
     "execution_count": 192,
     "metadata": {},
     "output_type": "execute_result"
    },
    {
     "data": {
      "image/png": "[encoded data removed]",
      "text/plain": [
       "<Figure size 432x288 with 1 Axes>"
      ]
     },
     "metadata": {
      "needs_background": "light"
     },
     "output_type": "display_data"
    }
   ],
   "source": [
    "gray = cv2.cvtColor(r, cv2.COLOR_BGR2GRAY)\n",
    "ret, binary = cv2.threshold(gray, 50, 255, cv2.THRESH_BINARY)\n",
    "contours, hierarchy = cv2.findContours(binary, cv2.RETR_EXTERNAL, cv2.CHAIN_APPROX_SIMPLE)\n",
    "for contour in contours :\n",
    "    rect = cv2.fitEllipse(contour)\n",
    "    print(rect)\n",
    "\n",
    "plt.imshow(binary, cmap = \"gray\")"
   ]
  },
  {
   "cell_type": "code",
   "execution_count": null,
   "metadata": {},
   "outputs": [],
   "source": [
    "h_hist = cv2.calcHist([imghsv], [0], None, [179], [1, 179])\n",
    "# plt.plot(h_hist)"
   ]
  },
  {
   "cell_type": "code",
   "execution_count": null,
   "metadata": {},
   "outputs": [],
   "source": [
    "s_hist = cv2.calcHist([imghsv], [1], None, [255], [1, 255])\n",
    "# plt.plot(s_hist)"
   ]
  },
  {
   "cell_type": "code",
   "execution_count": null,
   "metadata": {},
   "outputs": [],
   "source": [
    "v_hist = cv2.calcHist([imghsv], [2], None, [255], [1, 255])\n",
    "# plt.plot(v_hist)"
   ]
  },
  {
   "cell_type": "code",
   "execution_count": null,
   "metadata": {},
   "outputs": [],
   "source": [
    "img_gray = cv2.cvtColor(img, cv2.COLOR_BGR2GRAY)\n",
    "gray_hist = cv2.calcHist([img_gray], [0], None, [255], [1, 255])\n",
    "# plt.plot(gray_hist)"
   ]
  },
  {
   "cell_type": "code",
   "execution_count": null,
   "metadata": {},
   "outputs": [],
   "source": [
    "img_test = cv2.imread(\"test.png\")\n",
    "img_show = cv2.cvtColor(img_test, cv2.COLOR_BGR2RGB)\n",
    "plt.imshow(img_show)"
   ]
  },
  {
   "cell_type": "code",
   "execution_count": null,
   "metadata": {},
   "outputs": [],
   "source": [
    "test_gray = cv2.cvtColor(img_test, cv2.COLOR_BGR2GRAY)\n",
    "gray_bin = cv2.inRange(test_gray, (50), (255))\n",
    "# plt.imshow(gray_bin, cmap=\"gray\")"
   ]
  },
  {
   "cell_type": "code",
   "execution_count": null,
   "metadata": {},
   "outputs": [],
   "source": [
    "test_hsv = cv2.cvtColor(img_test, cv2.COLOR_BGR2HSV)\n",
    "b = cv2.inRange(test_hsv, (75, 1, 160), (125, 255, 255))\n",
    "plt.imshow(b, cmap=\"gray\")"
   ]
  },
  {
   "cell_type": "code",
   "execution_count": null,
   "metadata": {},
   "outputs": [],
   "source": [
    "r1 = cv2.inRange(test_hsv, (0, 1, 120), (25, 255, 220))\n",
    "r2 = cv2.inRange(test_hsv, (150, 1, 120), (179, 255, 220))\n",
    "r = r1 + r2\n",
    "plt.imshow(r, cmap=\"gray\")"
   ]
  }
 ],
 "metadata": {
  "interpreter": {
   "hash": "31f2aee4e71d21fbe5cf8b01ff0e069b9275f58929596ceb00d14d90e3e16cd6"
  },
  "kernelspec": {
   "display_name": "Python 3.8.10 64-bit",
   "language": "python",
   "name": "python3"
  },
  "language_info": {
   "codemirror_mode": {
    "name": "ipython",
    "version": 3
   },
   "file_extension": ".py",
   "mimetype": "text/x-python",
   "name": "python",
   "nbconvert_exporter": "python",
   "pygments_lexer": "ipython3",
   "version": "3.8.10"
  },
  "orig_nbformat": 4
 },
 "nbformat": 4,
 "nbformat_minor": 2
}
