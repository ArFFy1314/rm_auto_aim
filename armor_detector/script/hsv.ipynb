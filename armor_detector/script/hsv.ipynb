{
 "cells": [
  {
   "cell_type": "code",
   "execution_count": null,
   "metadata": {},
   "outputs": [],
   "source": [
    "import cv2\n",
    "import matplotlib.pyplot as plt"
   ]
  },
  {
   "cell_type": "code",
   "execution_count": null,
   "metadata": {},
   "outputs": [],
   "source": [
    "only_r = cv2.imread(\"rs_only_r.png\")\n",
    "only_b = cv2.imread(\"rs_only_b.png\")\n",
    "only_r_hls = cv2.cvtColor(only_r, cv2.COLOR_BGR2HLS)\n",
    "only_b_hls = cv2.cvtColor(only_b, cv2.COLOR_BGR2HLS)"
   ]
  },
  {
   "cell_type": "code",
   "execution_count": null,
   "metadata": {},
   "outputs": [],
   "source": [
    "h_hist = cv2.calcHist([only_r_hls], [0], None, [179], [1, 179])\n",
    "plt.plot(h_hist), plt.show(), plt.clf()\n",
    "l_hist = cv2.calcHist([only_r_hls], [1], None, [255], [1, 255])\n",
    "plt.plot(l_hist), plt.show(), plt.clf()\n",
    "s_hist = cv2.calcHist([only_r_hls], [2], None, [255], [1, 255])\n",
    "plt.plot(s_hist), plt.show(), plt.clf()"
   ]
  },
  {
   "cell_type": "code",
   "execution_count": null,
   "metadata": {},
   "outputs": [],
   "source": [
    "h_hist = cv2.calcHist([only_b_hls], [0], None, [179], [1, 179])\n",
    "plt.plot(h_hist), plt.show(), plt.clf()\n",
    "l_hist = cv2.calcHist([only_b_hls], [1], None, [255], [1, 255])\n",
    "plt.plot(l_hist), plt.show(), plt.clf()\n",
    "s_hist = cv2.calcHist([only_b_hls], [2], None, [255], [1, 255])\n",
    "plt.plot(s_hist), plt.show(), plt.clf()"
   ]
  },
  {
   "cell_type": "code",
   "execution_count": 36,
   "metadata": {},
   "outputs": [
    {
     "data": {
      "text/plain": [
       "<matplotlib.image.AxesImage at 0x7f7f91430bb0>"
      ]
     },
     "execution_count": 36,
     "metadata": {},
     "output_type": "execute_result"
    },
    {
     "data": {
      "image/png": "[encoded data removed]",
      "text/plain": [
       "<Figure size 432x288 with 1 Axes>"
      ]
     },
     "metadata": {
      "needs_background": "light"
     },
     "output_type": "display_data"
    }
   ],
   "source": [
    "img_test = cv2.imread(\"rs_r_b.png\")\n",
    "test_gray = cv2.cvtColor(img_test, cv2.COLOR_BGR2GRAY)\n",
    "gray_bin = cv2.inRange(test_gray, (150), (255))\n",
    "plt.imshow(gray_bin, cmap=\"gray\")"
   ]
  },
  {
   "cell_type": "code",
   "execution_count": 37,
   "metadata": {},
   "outputs": [
    {
     "data": {
      "text/plain": [
       "<matplotlib.image.AxesImage at 0x7f7f91400be0>"
      ]
     },
     "execution_count": 37,
     "metadata": {},
     "output_type": "execute_result"
    },
    {
     "data": {
      "image/png": "[encoded data removed]",
      "text/plain": [
       "<Figure size 432x288 with 1 Axes>"
      ]
     },
     "metadata": {
      "needs_background": "light"
     },
     "output_type": "display_data"
    }
   ],
   "source": [
    "img_test = cv2.imread(\"rs_r_b.png\")\n",
    "test_hls = cv2.cvtColor(img_test, cv2.COLOR_BGR2HLS)\n",
    "b = cv2.inRange(test_hls, (75, 150, 160), (120, 255, 255))\n",
    "plt.imshow(b, cmap=\"gray\")"
   ]
  },
  {
   "cell_type": "code",
   "execution_count": 38,
   "metadata": {},
   "outputs": [
    {
     "data": {
      "text/plain": [
       "<matplotlib.image.AxesImage at 0x7f7f913d3ee0>"
      ]
     },
     "execution_count": 38,
     "metadata": {},
     "output_type": "execute_result"
    },
    {
     "data": {
      "image/png": "[encoded data removed]",
      "text/plain": [
       "<Figure size 432x288 with 1 Axes>"
      ]
     },
     "metadata": {
      "needs_background": "light"
     },
     "output_type": "display_data"
    }
   ],
   "source": [
    "img_test = cv2.imread(\"rs_r_b.png\")\n",
    "test_hls = cv2.cvtColor(img_test, cv2.COLOR_BGR2HLS)\n",
    "r1 = cv2.inRange(test_hls, (0, 140, 100), (25, 255, 255))\n",
    "r2 = cv2.inRange(test_hls, (150, 140, 100), (179, 255, 255))\n",
    "r = r1 + r2\n",
    "plt.imshow(r, cmap=\"gray\")"
   ]
  }
 ],
 "metadata": {
  "interpreter": {
   "hash": "31f2aee4e71d21fbe5cf8b01ff0e069b9275f58929596ceb00d14d90e3e16cd6"
  },
  "kernelspec": {
   "display_name": "Python 3.8.10 64-bit",
   "language": "python",
   "name": "python3"
  },
  "language_info": {
   "codemirror_mode": {
    "name": "ipython",
    "version": 3
   },
   "file_extension": ".py",
   "mimetype": "text/x-python",
   "name": "python",
   "nbconvert_exporter": "python",
   "pygments_lexer": "ipython3",
   "version": "3.8.10"
  },
  "orig_nbformat": 4
 },
 "nbformat": 4,
 "nbformat_minor": 2
}
